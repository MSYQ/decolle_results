{
 "cells": [
  {
   "cell_type": "code",
   "execution_count": 1,
   "metadata": {},
   "outputs": [
    {
     "name": "stdout",
     "output_type": "stream",
     "text": [
      "D:\\资料\\Emre Neftci\n"
     ]
    }
   ],
   "source": [
    "cd \"../资料/Emre Neftci\""
   ]
  },
  {
   "cell_type": "markdown",
   "metadata": {},
   "source": [
    "# Parameters:"
   ]
  },
  {
   "cell_type": "raw",
   "metadata": {},
   "source": [
    "Nhid:\n",
    "- 16\n",
    "- 24\n",
    "Mhid:\n",
    "- 128\n",
    "alpha:\n",
    "- 0.97\n",
    "alpharp:\n",
    "- 0.65\n",
    "batch_size: 72\n",
    "beta:\n",
    "- 0.92\n",
    "betas:\n",
    "- 0.\n",
    "- 0.95\n",
    "burnin_steps: 100\n",
    "chunk_size_test: 300\n",
    "chunk_size_train: 300\n",
    "dataset: torchneuromorphic.nmnist.nmnist_dataloaders\n",
    "deltat: 1000\n",
    "input_shape:\n",
    "- 2\n",
    "- 32\n",
    "- 32\n",
    "kernel_size:\n",
    "- 7\n",
    "lc_ampl: 0.5\n",
    "learning_rate: 1.0e-09\n",
    "loss: smoothL1\n",
    "lr_drop_factor: 5\n",
    "lr_drop_interval: 500\n",
    "num_epochs: 40\n",
    "num_conv_layers: 2\n",
    "num_mlp_layers: 1\n",
    "num_layers: 3\n",
    "num_dl_workers: 8\n",
    "optimizer: adamax\n",
    "out_channels: 11\n",
    "pool_size:\n",
    "- 2\n",
    "- 1\n",
    "random_tau: false\n",
    "reg_l:\n",
    "- .0\n",
    "- .0\n",
    "- .5\n",
    "- .5\n",
    "test_interval: 1"
   ]
  },
  {
   "cell_type": "markdown",
   "metadata": {},
   "source": [
    "# Results on test dataset:"
   ]
  },
  {
   "cell_type": "code",
   "execution_count": 2,
   "metadata": {},
   "outputs": [
    {
     "name": "stdout",
     "output_type": "stream",
     "text": [
      "[[0.32762897 0.82775298 0.92733135]\n",
      " [0.35639881 0.88256448 0.80109127]\n",
      " [0.38008433 0.88033234 0.52095734]\n",
      " [0.37227183 0.8844246  0.18030754]\n",
      " [0.39521329 0.88938492 0.11011905]\n",
      " [0.37475198 0.88628472 0.10019841]\n",
      " [0.38318452 0.88740079 0.1031746 ]\n",
      " [0.4280754  0.8921131  0.09920635]\n",
      " [0.38529266 0.88839286 0.10019841]\n",
      " [0.40066964 0.89012897 0.09920635]\n",
      " [0.42571925 0.89025298 0.09920635]\n",
      " [0.42150298 0.89422123 0.10019841]\n",
      " [0.40749008 0.8922371  0.09920635]\n",
      " [0.42311508 0.89422123 0.09920635]\n",
      " [0.38169643 0.89335317 0.09920635]\n",
      " [0.39583333 0.90017361 0.09920635]\n",
      " [0.44469246 0.89508929 0.09920635]\n",
      " [0.42782738 0.89732143 0.10230655]\n",
      " [0.44506448 0.90327381 0.09920635]\n",
      " [0.42857143 0.89831349 0.09920635]\n",
      " [0.44804067 0.89620536 0.09920635]\n",
      " [0.41989087 0.9031498  0.09920635]\n",
      " [0.46366567 0.89707341 0.09920635]\n",
      " [0.42447917 0.89645337 0.09920635]\n",
      " [0.4343998  0.90711806 0.09920635]\n",
      " [0.44717262 0.89831349 0.10032242]\n",
      " [0.45337302 0.90513393 0.09920635]\n",
      " [0.45300099 0.89657738 0.09920635]\n",
      " [0.45610119 0.90128968 0.09920635]\n",
      " [0.43167163 0.90029762 0.09920635]\n",
      " [0.45386905 0.90128968 0.09920635]\n",
      " [0.43936012 0.90228175 0.09920635]\n",
      " [0.46862599 0.90128968 0.09920635]\n",
      " [0.42311508 0.90327381 0.09920635]\n",
      " [0.4280754  0.90228175 0.09920635]\n",
      " [0.45176091 0.8953373  0.09920635]\n",
      " [0.44642857 0.90414187 0.09920635]\n",
      " [0.42993552 0.89632937 0.09920635]\n",
      " [0.44543651 0.89818948 0.09920635]]\n"
     ]
    }
   ],
   "source": [
    "import numpy as np\n",
    "\n",
    "test_results = np.load('test_acc.npy')\n",
    "print(test_results)"
   ]
  }
 ],
 "metadata": {
  "kernelspec": {
   "display_name": "Python 3",
   "language": "python",
   "name": "python3"
  },
  "language_info": {
   "codemirror_mode": {
    "name": "ipython",
    "version": 3
   },
   "file_extension": ".py",
   "mimetype": "text/x-python",
   "name": "python",
   "nbconvert_exporter": "python",
   "pygments_lexer": "ipython3",
   "version": "3.6.8"
  }
 },
 "nbformat": 4,
 "nbformat_minor": 2
}
